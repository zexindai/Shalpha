{
 "cells": [
  {
   "cell_type": "code",
   "execution_count": 1,
   "metadata": {},
   "outputs": [
    {
     "name": "stderr",
     "output_type": "stream",
     "text": [
      "[WDM] - Current google-chrome version is 86.0.4240\n",
      "[WDM] - Get LATEST driver version for 86.0.4240\n",
      "[WDM] - Driver [/home/zexin/.wdm/drivers/chromedriver/linux64/86.0.4240.22/chromedriver] found in cache\n"
     ]
    },
    {
     "name": "stdout",
     "output_type": "stream",
     "text": [
      " \n"
     ]
    }
   ],
   "source": [
    "from selenium import webdriver\n",
    "from webdriver_manager.chrome import ChromeDriverManager\n",
    "import os\n",
    "import pandas as pd\n",
    "\n",
    "import basic_functions as bf\n",
    "\n",
    "def download_SwClass():\n",
    "    path = os.getcwd()\n",
    "\n",
    "    chromeOptions = webdriver.ChromeOptions()\n",
    "    prefs = {'download.default_directory' : path}\n",
    "    chromeOptions.add_experimental_option(\"prefs\",prefs)\n",
    "    chromeOptions.add_argument(\"--headless\")\n",
    "\n",
    "    browser = webdriver.Chrome(ChromeDriverManager().install(),options=chromeOptions)\n",
    "\n",
    "    browser.get('http://www.swsindex.com/idx0530.aspx')\n",
    "    element=browser.find_element_by_xpath('//*[@id=\"form1\"]/div[3]/div/div[1]/div[1]/div[3]/table[2]/tbody/tr[2]/td/table/tbody/tr/td[3]/a')\n",
    "\n",
    "    element.click()\n",
    "\n",
    "    bf.download_wait(path, 60)\n",
    "\n",
    "    browser.quit()\n",
    "    \n",
    "    df = pd.DataFrame(pd.read_html('SwClass.xls')[0])\n",
    "    return df"
   ]
  },
  {
   "cell_type": "code",
   "execution_count": 15,
   "metadata": {
    "scrolled": true
   },
   "outputs": [],
   "source": [
    "import pandas as pd\n",
    "df = pd.DataFrame(pd.read_html('SwClass.xls')[0])\n"
   ]
  },
  {
   "cell_type": "code",
   "execution_count": 16,
   "metadata": {},
   "outputs": [
    {
     "data": {
      "text/html": [
       "<div>\n",
       "<style scoped>\n",
       "    .dataframe tbody tr th:only-of-type {\n",
       "        vertical-align: middle;\n",
       "    }\n",
       "\n",
       "    .dataframe tbody tr th {\n",
       "        vertical-align: top;\n",
       "    }\n",
       "\n",
       "    .dataframe thead th {\n",
       "        text-align: right;\n",
       "    }\n",
       "</style>\n",
       "<table border=\"1\" class=\"dataframe\">\n",
       "  <thead>\n",
       "    <tr style=\"text-align: right;\">\n",
       "      <th></th>\n",
       "      <th>行业名称</th>\n",
       "      <th>股票代码</th>\n",
       "      <th>股票名称</th>\n",
       "      <th>起始日期</th>\n",
       "      <th>结束日期</th>\n",
       "    </tr>\n",
       "  </thead>\n",
       "  <tbody>\n",
       "    <tr>\n",
       "      <th>0</th>\n",
       "      <td>采掘</td>\n",
       "      <td>552</td>\n",
       "      <td>靖远煤电</td>\n",
       "      <td>2008/6/2 0:00:00</td>\n",
       "      <td>NaN</td>\n",
       "    </tr>\n",
       "    <tr>\n",
       "      <th>1</th>\n",
       "      <td>采掘</td>\n",
       "      <td>571</td>\n",
       "      <td>*ST大洲</td>\n",
       "      <td>2011/10/10 0:00:00</td>\n",
       "      <td>NaN</td>\n",
       "    </tr>\n",
       "    <tr>\n",
       "      <th>2</th>\n",
       "      <td>采掘</td>\n",
       "      <td>629</td>\n",
       "      <td>攀钢钒钛</td>\n",
       "      <td>2015/10/31 0:00:00</td>\n",
       "      <td>NaN</td>\n",
       "    </tr>\n",
       "    <tr>\n",
       "      <th>3</th>\n",
       "      <td>采掘</td>\n",
       "      <td>655</td>\n",
       "      <td>金岭矿业</td>\n",
       "      <td>2015/10/31 0:00:00</td>\n",
       "      <td>NaN</td>\n",
       "    </tr>\n",
       "    <tr>\n",
       "      <th>4</th>\n",
       "      <td>采掘</td>\n",
       "      <td>723</td>\n",
       "      <td>美锦能源</td>\n",
       "      <td>2008/6/2 0:00:00</td>\n",
       "      <td>NaN</td>\n",
       "    </tr>\n",
       "    <tr>\n",
       "      <th>...</th>\n",
       "      <td>...</td>\n",
       "      <td>...</td>\n",
       "      <td>...</td>\n",
       "      <td>...</td>\n",
       "      <td>...</td>\n",
       "    </tr>\n",
       "    <tr>\n",
       "      <th>335</th>\n",
       "      <td>电气设备</td>\n",
       "      <td>300360</td>\n",
       "      <td>炬华科技</td>\n",
       "      <td>2016/8/26 10:18:00</td>\n",
       "      <td>NaN</td>\n",
       "    </tr>\n",
       "    <tr>\n",
       "      <th>336</th>\n",
       "      <td>电气设备</td>\n",
       "      <td>300376</td>\n",
       "      <td>易事特</td>\n",
       "      <td>2015/10/16 0:00:00</td>\n",
       "      <td>NaN</td>\n",
       "    </tr>\n",
       "    <tr>\n",
       "      <th>337</th>\n",
       "      <td>电气设备</td>\n",
       "      <td>300393</td>\n",
       "      <td>中来股份</td>\n",
       "      <td>2015/10/16 0:00:00</td>\n",
       "      <td>NaN</td>\n",
       "    </tr>\n",
       "    <tr>\n",
       "      <th>338</th>\n",
       "      <td>电气设备</td>\n",
       "      <td>300407</td>\n",
       "      <td>凯发电气</td>\n",
       "      <td>2016/1/19 0:00:00</td>\n",
       "      <td>NaN</td>\n",
       "    </tr>\n",
       "    <tr>\n",
       "      <th>339</th>\n",
       "      <td>电气设备</td>\n",
       "      <td>300423</td>\n",
       "      <td>NaN</td>\n",
       "      <td>NaN</td>\n",
       "      <td>NaN</td>\n",
       "    </tr>\n",
       "  </tbody>\n",
       "</table>\n",
       "<p>340 rows × 5 columns</p>\n",
       "</div>"
      ],
      "text/plain": [
       "     行业名称    股票代码   股票名称                起始日期  结束日期\n",
       "0      采掘     552   靖远煤电    2008/6/2 0:00:00   NaN\n",
       "1      采掘     571  *ST大洲  2011/10/10 0:00:00   NaN\n",
       "2      采掘     629   攀钢钒钛  2015/10/31 0:00:00   NaN\n",
       "3      采掘     655   金岭矿业  2015/10/31 0:00:00   NaN\n",
       "4      采掘     723   美锦能源    2008/6/2 0:00:00   NaN\n",
       "..    ...     ...    ...                 ...   ...\n",
       "335  电气设备  300360   炬华科技  2016/8/26 10:18:00   NaN\n",
       "336  电气设备  300376    易事特  2015/10/16 0:00:00   NaN\n",
       "337  电气设备  300393   中来股份  2015/10/16 0:00:00   NaN\n",
       "338  电气设备  300407   凯发电气   2016/1/19 0:00:00   NaN\n",
       "339  电气设备  300423    NaN                 NaN   NaN\n",
       "\n",
       "[340 rows x 5 columns]"
      ]
     },
     "execution_count": 16,
     "metadata": {},
     "output_type": "execute_result"
    }
   ],
   "source": [
    "df"
   ]
  },
  {
   "cell_type": "code",
   "execution_count": 110,
   "metadata": {},
   "outputs": [],
   "source": [
    "chromeOptions = webdriver.ChromeOptions()\n",
    "prefs = {'download.default_directory' : ' '}\n",
    "chromeOptions.add_experimental_option(\"prefs\",prefs)"
   ]
  },
  {
   "cell_type": "code",
   "execution_count": 104,
   "metadata": {},
   "outputs": [],
   "source": [
    "import requests\n",
    "\n",
    "url = \"http://www.....aspx?download=1\"\n",
    "\n",
    "file_name = \"Data.csv\"\n",
    "u = requests.get(url)"
   ]
  },
  {
   "cell_type": "code",
   "execution_count": 105,
   "metadata": {},
   "outputs": [],
   "source": [
    "url = 'http://www.swsindex.com/downloadfiles.aspx?swindexcode=SwClass&type=530&columnid=8892'\n",
    "r = requests.get(url, allow_redirects=True)\n"
   ]
  },
  {
   "cell_type": "code",
   "execution_count": 108,
   "metadata": {},
   "outputs": [
    {
     "data": {
      "text/plain": [
       "b'\\r\\n\\r\\n<!DOCTYPE html PUBLIC \"-//W3C//DTD XHTML 1.0 Transitional//EN\" \"http://www.w3.org/TR/xhtml1/DTD/xhtml1-transitional.dtd\">\\r\\n\\r\\n<html xmlns=\"http://www.w3.org/1999/xhtml\" >\\r\\n<head><title>\\r\\n\\t\\xce\\xde\\xb1\\xea\\xcc\\xe2\\xd2\\xb3\\r\\n</title><meta http-equiv=\"X-UA-Compatible\" content=\"IE=EmulateIE7\" /></head>\\r\\n<body>\\r\\n    <form name=\"form1\" method=\"post\" action=\"downloadfiles.aspx?swindexcode=SwClass&amp;type=530&amp;columnid=8892\" id=\"form1\">\\r\\n<input type=\"hidden\" name=\"__VIEWSTATE\" id=\"__VIEWSTATE\" value=\"/wEPDwUKLTg2Njc2NjM3M2RkYpx7XSv5LutyuTrfYOcwp//guOY=\" />\\r\\n\\r\\n<input type=\"hidden\" name=\"__VIEWSTATEGENERATOR\" id=\"__VIEWSTATEGENERATOR\" value=\"1282D04F\" />\\r\\n    <div >\\r\\n   \\r\\n    </div>\\r\\n    </form>\\r\\n</body>\\r\\n</html>\\r\\n'"
      ]
     },
     "execution_count": 108,
     "metadata": {},
     "output_type": "execute_result"
    }
   ],
   "source": [
    "r.content"
   ]
  },
  {
   "cell_type": "code",
   "execution_count": null,
   "metadata": {},
   "outputs": [],
   "source": [
    "from bs4 import BeautifulSoup\n",
    "import requests\n",
    " \n",
    "url = 'http://www.swsindex.com/idx0530.aspx'\n",
    "url_get = requests.get(url)\n",
    "soup = BeautifulSoup(url_get.content, 'lxml')\n",
    "col = soup.find('div', class_=\"column_main\")\n",
    "col_all = col.find_all('a')\n",
    "for link in col_all:\n",
    "   print(link.get('href')"
   ]
  },
  {
   "cell_type": "code",
   "execution_count": 107,
   "metadata": {},
   "outputs": [
    {
     "ename": "ModuleNotFoundError",
     "evalue": "No module named 'urllib2'",
     "output_type": "error",
     "traceback": [
      "\u001b[0;31m----------------------------------------------------------------\u001b[0m",
      "\u001b[0;31mModuleNotFoundError\u001b[0m            Traceback (most recent call last)",
      "\u001b[0;32m<ipython-input-107-d4b93cf8e5c1>\u001b[0m in \u001b[0;36m<module>\u001b[0;34m\u001b[0m\n\u001b[1;32m      1\u001b[0m \u001b[0;32mimport\u001b[0m \u001b[0murllib\u001b[0m\u001b[0;34m\u001b[0m\u001b[0;34m\u001b[0m\u001b[0m\n\u001b[0;32m----> 2\u001b[0;31m \u001b[0;32mimport\u001b[0m \u001b[0murllib2\u001b[0m\u001b[0;34m\u001b[0m\u001b[0;34m\u001b[0m\u001b[0m\n\u001b[0m\u001b[1;32m      3\u001b[0m \u001b[0;34m\u001b[0m\u001b[0m\n\u001b[1;32m      4\u001b[0m \u001b[0murl\u001b[0m \u001b[0;34m=\u001b[0m \u001b[0;34m'http://www.swsindex.com/downloadfiles.aspx?swindexcode=SwClass&type=530&columnid=8892'\u001b[0m\u001b[0;34m\u001b[0m\u001b[0;34m\u001b[0m\u001b[0m\n\u001b[1;32m      5\u001b[0m values = {'name' : 'Michael Foord',\n",
      "\u001b[0;31mModuleNotFoundError\u001b[0m: No module named 'urllib2'"
     ]
    }
   ],
   "source": [
    "import urllib\n",
    "import urllib2\n",
    "\n",
    "url = 'http://www.swsindex.com/downloadfiles.aspx?swindexcode=SwClass&type=530&columnid=8892'\n",
    "values = {'name' : 'Michael Foord',\n",
    "          'location' : 'Northampton',\n",
    "          'language' : 'Python' }\n",
    "\n",
    "data = urllib.urlencode(values)\n",
    "req = urllib2.Request(url, data)\n",
    "response = urllib2.urlopen(req)\n",
    "the_page = response.read()\n",
    "\n",
    "f = open('result.html', 'w')\n",
    "f.write(the_page)\n",
    "f.close()"
   ]
  },
  {
   "cell_type": "code",
   "execution_count": null,
   "metadata": {},
   "outputs": [],
   "source": []
  },
  {
   "cell_type": "code",
   "execution_count": 73,
   "metadata": {},
   "outputs": [
    {
     "name": "stdout",
     "output_type": "stream",
     "text": [
      "Downloading: %s Bytes: %s Data.xls 701\n"
     ]
    }
   ],
   "source": [
    "import requests\n",
    "\n",
    "url = 'http://www.swsindex.com/downloadfiles.aspx?swindexcode=%B4%AB%C3%BD&type=530&columnid=8892'\n",
    "\n",
    "file_name = \"Data.xls\"\n",
    "u = requests.get(url)\n",
    "\n",
    "file_size = int(u.headers['content-length'])\n",
    "print(\"Downloading: %s Bytes: %s\",file_name, file_size)\n",
    "\n",
    "with open(file_name, 'wb') as f:\n",
    "    for chunk in u.iter_content(chunk_size=1024): \n",
    "        if chunk: # filter out keep-alive new chunks\n",
    "            f.write(chunk)\n",
    "            f.flush()\n",
    "f.close()"
   ]
  },
  {
   "cell_type": "code",
   "execution_count": 56,
   "metadata": {},
   "outputs": [
    {
     "ename": "ModuleNotFoundError",
     "evalue": "No module named 'selenium'",
     "output_type": "error",
     "traceback": [
      "\u001b[0;31m----------------------------------------------------------------\u001b[0m",
      "\u001b[0;31mModuleNotFoundError\u001b[0m            Traceback (most recent call last)",
      "\u001b[0;32m<ipython-input-56-add27ed920f1>\u001b[0m in \u001b[0;36m<module>\u001b[0;34m\u001b[0m\n\u001b[0;32m----> 1\u001b[0;31m \u001b[0;32mfrom\u001b[0m \u001b[0mselenium\u001b[0m \u001b[0;32mimport\u001b[0m \u001b[0mwebdriver\u001b[0m\u001b[0;34m\u001b[0m\u001b[0;34m\u001b[0m\u001b[0m\n\u001b[0m\u001b[1;32m      2\u001b[0m \u001b[0;32mfrom\u001b[0m \u001b[0mselenium\u001b[0m\u001b[0;34m.\u001b[0m\u001b[0mwebdriver\u001b[0m \u001b[0;32mimport\u001b[0m \u001b[0mActionChains\u001b[0m\u001b[0;34m\u001b[0m\u001b[0;34m\u001b[0m\u001b[0m\n\u001b[1;32m      3\u001b[0m \u001b[0mdriver\u001b[0m \u001b[0;34m=\u001b[0m \u001b[0mwebdriver\u001b[0m\u001b[0;34m.\u001b[0m\u001b[0mChrome\u001b[0m\u001b[0;34m(\u001b[0m\u001b[0;34m)\u001b[0m\u001b[0;34m\u001b[0m\u001b[0;34m\u001b[0m\u001b[0m\n\u001b[1;32m      4\u001b[0m \u001b[0mdriver\u001b[0m\u001b[0;34m.\u001b[0m\u001b[0mget\u001b[0m\u001b[0;34m(\u001b[0m\u001b[0mlink\u001b[0m\u001b[0;34m)\u001b[0m\u001b[0;34m\u001b[0m\u001b[0;34m\u001b[0m\u001b[0m\n\u001b[1;32m      5\u001b[0m \u001b[0melem\u001b[0m \u001b[0;34m=\u001b[0m \u001b[0mdriver\u001b[0m\u001b[0;34m.\u001b[0m\u001b[0mfind_element_by_css_selector\u001b[0m\u001b[0;34m(\u001b[0m\u001b[0;34m'a[target=\"_blank\"]'\u001b[0m\u001b[0;34m)\u001b[0m\u001b[0;34m\u001b[0m\u001b[0;34m\u001b[0m\u001b[0m\n",
      "\u001b[0;31mModuleNotFoundError\u001b[0m: No module named 'selenium'"
     ]
    }
   ],
   "source": [
    "from selenium import webdriver\n",
    "from selenium.webdriver import ActionChains\n",
    "driver = webdriver.Chrome()\n",
    "driver.get(link)\n",
    "elem = driver.find_element_by_css_selector('a[target=\"_blank\"]')\n",
    "actionChain = ActionChains(driver)\n",
    "actionChain.context_click(elem).perform()"
   ]
  },
  {
   "cell_type": "code",
   "execution_count": 52,
   "metadata": {},
   "outputs": [
    {
     "ename": "TypeError",
     "evalue": "'str' object is not callable",
     "output_type": "error",
     "traceback": [
      "\u001b[0;31m----------------------------------------------------------------\u001b[0m",
      "\u001b[0;31mTypeError\u001b[0m                      Traceback (most recent call last)",
      "\u001b[0;32m<ipython-input-52-74edc7cde1e1>\u001b[0m in \u001b[0;36m<module>\u001b[0;34m\u001b[0m\n\u001b[0;32m----> 1\u001b[0;31m \u001b[0mresponse\u001b[0m\u001b[0;34m.\u001b[0m\u001b[0murl\u001b[0m\u001b[0;34m(\u001b[0m\u001b[0;34m)\u001b[0m\u001b[0;34m\u001b[0m\u001b[0;34m\u001b[0m\u001b[0m\n\u001b[0m",
      "\u001b[0;31mTypeError\u001b[0m: 'str' object is not callable"
     ]
    }
   ],
   "source": [
    "import urllib\n",
    "urllib.urlretrieve (\"http://www.example.com/songs/mp3.mp3\", \"mp3.mp3\")"
   ]
  },
  {
   "cell_type": "code",
   "execution_count": null,
   "metadata": {},
   "outputs": [],
   "source": [
    "http://www.swsindex.com/downloadfiles.aspx?swindexcode=%B4%AB%C3%BD&type=530&columnid=8892"
   ]
  },
  {
   "cell_type": "code",
   "execution_count": 7,
   "metadata": {},
   "outputs": [],
   "source": [
    "import investpy\n",
    "import pandas as pd"
   ]
  },
  {
   "cell_type": "code",
   "execution_count": 4,
   "metadata": {
    "scrolled": true
   },
   "outputs": [
    {
     "data": {
      "text/plain": [
       "['argentina',\n",
       " 'brazil',\n",
       " 'canada',\n",
       " 'chile',\n",
       " 'colombia',\n",
       " 'costa rica',\n",
       " 'jamaica',\n",
       " 'mexico',\n",
       " 'peru',\n",
       " 'united states',\n",
       " 'venezuela',\n",
       " 'austria',\n",
       " 'belgium',\n",
       " 'bosnia',\n",
       " 'bulgaria',\n",
       " 'croatia',\n",
       " 'cyprus',\n",
       " 'czech republic',\n",
       " 'denmark',\n",
       " 'finland',\n",
       " 'france',\n",
       " 'germany',\n",
       " 'greece',\n",
       " 'hungary',\n",
       " 'iceland',\n",
       " 'ireland',\n",
       " 'italy',\n",
       " 'luxembourg',\n",
       " 'malta',\n",
       " 'montenegro',\n",
       " 'netherlands',\n",
       " 'norway',\n",
       " 'poland',\n",
       " 'portugal',\n",
       " 'romania',\n",
       " 'russia',\n",
       " 'serbia',\n",
       " 'slovakia',\n",
       " 'slovenia',\n",
       " 'spain',\n",
       " 'sweden',\n",
       " 'switzerland',\n",
       " 'turkey',\n",
       " 'ukraine',\n",
       " 'united kingdom',\n",
       " 'australia',\n",
       " 'bangladesh',\n",
       " 'china',\n",
       " 'hong kong',\n",
       " 'india',\n",
       " 'indonesia',\n",
       " 'japan',\n",
       " 'kazakhstan',\n",
       " 'malaysia',\n",
       " 'mongolia',\n",
       " 'new zealand',\n",
       " 'pakistan',\n",
       " 'philippines',\n",
       " 'singapore',\n",
       " 'south korea',\n",
       " 'sri lanka',\n",
       " 'taiwan',\n",
       " 'thailand',\n",
       " 'vietnam',\n",
       " 'bahrain',\n",
       " 'egypt',\n",
       " 'iraq',\n",
       " 'israel',\n",
       " 'jordan',\n",
       " 'kuwait',\n",
       " 'lebanon',\n",
       " 'oman',\n",
       " 'palestine',\n",
       " 'qatar',\n",
       " 'saudi arabia',\n",
       " 'dubai',\n",
       " 'botswana',\n",
       " 'ivory coast',\n",
       " 'kenya',\n",
       " 'malawi',\n",
       " 'mauritius',\n",
       " 'morocco',\n",
       " 'namibia',\n",
       " 'nigeria',\n",
       " 'rwanda',\n",
       " 'south africa',\n",
       " 'tanzania',\n",
       " 'tunisia',\n",
       " 'uganda',\n",
       " 'zambia',\n",
       " 'zimbabwe']"
      ]
     },
     "execution_count": 4,
     "metadata": {},
     "output_type": "execute_result"
    }
   ],
   "source": [
    "investpy.get_stock_countries()"
   ]
  },
  {
   "cell_type": "code",
   "execution_count": 8,
   "metadata": {},
   "outputs": [
    {
     "data": {
      "text/html": [
       "<div>\n",
       "<style scoped>\n",
       "    .dataframe tbody tr th:only-of-type {\n",
       "        vertical-align: middle;\n",
       "    }\n",
       "\n",
       "    .dataframe tbody tr th {\n",
       "        vertical-align: top;\n",
       "    }\n",
       "\n",
       "    .dataframe thead th {\n",
       "        text-align: right;\n",
       "    }\n",
       "</style>\n",
       "<table border=\"1\" class=\"dataframe\">\n",
       "  <thead>\n",
       "    <tr style=\"text-align: right;\">\n",
       "      <th></th>\n",
       "      <th>country</th>\n",
       "      <th>name</th>\n",
       "      <th>full_name</th>\n",
       "      <th>isin</th>\n",
       "      <th>currency</th>\n",
       "      <th>symbol</th>\n",
       "    </tr>\n",
       "  </thead>\n",
       "  <tbody>\n",
       "    <tr>\n",
       "      <th>0</th>\n",
       "      <td>china</td>\n",
       "      <td>China Shenhua Energy SH</td>\n",
       "      <td>China Shenhua Energy Co</td>\n",
       "      <td>CNE100000767</td>\n",
       "      <td>CNY</td>\n",
       "      <td>601088</td>\n",
       "    </tr>\n",
       "    <tr>\n",
       "      <th>1</th>\n",
       "      <td>china</td>\n",
       "      <td>Bank of China A</td>\n",
       "      <td>Bank of China Ltd A</td>\n",
       "      <td>CNE000001N05</td>\n",
       "      <td>CNY</td>\n",
       "      <td>601988</td>\n",
       "    </tr>\n",
       "    <tr>\n",
       "      <th>2</th>\n",
       "      <td>china</td>\n",
       "      <td>Sinopec Shanghai A</td>\n",
       "      <td>Sinopec Shanghai Petrochemical Co Ltd Class A</td>\n",
       "      <td>CNE000000BB2</td>\n",
       "      <td>CNY</td>\n",
       "      <td>600688</td>\n",
       "    </tr>\n",
       "    <tr>\n",
       "      <th>3</th>\n",
       "      <td>china</td>\n",
       "      <td>China Petrol A</td>\n",
       "      <td>China Petroleum &amp; Chemical Corp Class A</td>\n",
       "      <td>CNE0000018G1</td>\n",
       "      <td>CNY</td>\n",
       "      <td>600028</td>\n",
       "    </tr>\n",
       "    <tr>\n",
       "      <th>4</th>\n",
       "      <td>china</td>\n",
       "      <td>Zhongyuan Unio</td>\n",
       "      <td>Zhongyuan Unio</td>\n",
       "      <td>CNE000000545</td>\n",
       "      <td>CNY</td>\n",
       "      <td>600645</td>\n",
       "    </tr>\n",
       "    <tr>\n",
       "      <th>...</th>\n",
       "      <td>...</td>\n",
       "      <td>...</td>\n",
       "      <td>...</td>\n",
       "      <td>...</td>\n",
       "      <td>...</td>\n",
       "      <td>...</td>\n",
       "    </tr>\n",
       "    <tr>\n",
       "      <th>3334</th>\n",
       "      <td>china</td>\n",
       "      <td>Jade Bird Fire Alarm</td>\n",
       "      <td>Jade Bird Fire Alarm</td>\n",
       "      <td>CNE100003N68</td>\n",
       "      <td>CNY</td>\n",
       "      <td>002960</td>\n",
       "    </tr>\n",
       "    <tr>\n",
       "      <th>3335</th>\n",
       "      <td>china</td>\n",
       "      <td>Bear Electric</td>\n",
       "      <td>Bear Electric Appliance Co Ltd</td>\n",
       "      <td>CNE100003N27</td>\n",
       "      <td>CNY</td>\n",
       "      <td>002959</td>\n",
       "    </tr>\n",
       "    <tr>\n",
       "      <th>3336</th>\n",
       "      <td>china</td>\n",
       "      <td>Ruida</td>\n",
       "      <td>Ruida Futures</td>\n",
       "      <td>CNE100003NF1</td>\n",
       "      <td>CNY</td>\n",
       "      <td>002961</td>\n",
       "    </tr>\n",
       "    <tr>\n",
       "      <th>3337</th>\n",
       "      <td>china</td>\n",
       "      <td>W olf Photoelectric</td>\n",
       "      <td>W olf Photoelectric Technology Ltd</td>\n",
       "      <td>CNE100003ND6</td>\n",
       "      <td>CNY</td>\n",
       "      <td>002962</td>\n",
       "    </tr>\n",
       "    <tr>\n",
       "      <th>3338</th>\n",
       "      <td>china</td>\n",
       "      <td>Lucky Harvest</td>\n",
       "      <td>Lucky Harvest</td>\n",
       "      <td></td>\n",
       "      <td>CNY</td>\n",
       "      <td>002965</td>\n",
       "    </tr>\n",
       "  </tbody>\n",
       "</table>\n",
       "<p>3339 rows × 6 columns</p>\n",
       "</div>"
      ],
      "text/plain": [
       "     country                     name  \\\n",
       "0      china  China Shenhua Energy SH   \n",
       "1      china          Bank of China A   \n",
       "2      china       Sinopec Shanghai A   \n",
       "3      china           China Petrol A   \n",
       "4      china           Zhongyuan Unio   \n",
       "...      ...                      ...   \n",
       "3334   china     Jade Bird Fire Alarm   \n",
       "3335   china            Bear Electric   \n",
       "3336   china                    Ruida   \n",
       "3337   china      W olf Photoelectric   \n",
       "3338   china            Lucky Harvest   \n",
       "\n",
       "                                          full_name          isin currency  \\\n",
       "0                           China Shenhua Energy Co  CNE100000767      CNY   \n",
       "1                               Bank of China Ltd A  CNE000001N05      CNY   \n",
       "2     Sinopec Shanghai Petrochemical Co Ltd Class A  CNE000000BB2      CNY   \n",
       "3           China Petroleum & Chemical Corp Class A  CNE0000018G1      CNY   \n",
       "4                                    Zhongyuan Unio  CNE000000545      CNY   \n",
       "...                                             ...           ...      ...   \n",
       "3334                           Jade Bird Fire Alarm  CNE100003N68      CNY   \n",
       "3335                 Bear Electric Appliance Co Ltd  CNE100003N27      CNY   \n",
       "3336                                  Ruida Futures  CNE100003NF1      CNY   \n",
       "3337             W olf Photoelectric Technology Ltd  CNE100003ND6      CNY   \n",
       "3338                                  Lucky Harvest                    CNY   \n",
       "\n",
       "      symbol  \n",
       "0     601088  \n",
       "1     601988  \n",
       "2     600688  \n",
       "3     600028  \n",
       "4     600645  \n",
       "...      ...  \n",
       "3334  002960  \n",
       "3335  002959  \n",
       "3336  002961  \n",
       "3337  002962  \n",
       "3338  002965  \n",
       "\n",
       "[3339 rows x 6 columns]"
      ]
     },
     "execution_count": 8,
     "metadata": {},
     "output_type": "execute_result"
    }
   ],
   "source": [
    "pd.DataFrame(investpy.get_stocks_dict(country = 'China'))"
   ]
  },
  {
   "cell_type": "code",
   "execution_count": 12,
   "metadata": {
    "scrolled": true
   },
   "outputs": [
    {
     "data": {
      "text/html": [
       "<div>\n",
       "<style scoped>\n",
       "    .dataframe tbody tr th:only-of-type {\n",
       "        vertical-align: middle;\n",
       "    }\n",
       "\n",
       "    .dataframe tbody tr th {\n",
       "        vertical-align: top;\n",
       "    }\n",
       "\n",
       "    .dataframe thead th {\n",
       "        text-align: right;\n",
       "    }\n",
       "</style>\n",
       "<table border=\"1\" class=\"dataframe\">\n",
       "  <thead>\n",
       "    <tr style=\"text-align: right;\">\n",
       "      <th></th>\n",
       "      <th>Stock Symbol</th>\n",
       "      <th>Prev. Close</th>\n",
       "      <th>Todays Range</th>\n",
       "      <th>Revenue</th>\n",
       "      <th>Open</th>\n",
       "      <th>52 wk Range</th>\n",
       "      <th>EPS</th>\n",
       "      <th>Volume</th>\n",
       "      <th>Market Cap</th>\n",
       "      <th>Dividend (Yield)</th>\n",
       "      <th>Average Vol. (3m)</th>\n",
       "      <th>P/E Ratio</th>\n",
       "      <th>Beta</th>\n",
       "      <th>1-Year Change</th>\n",
       "      <th>Shares Outstanding</th>\n",
       "      <th>Next Earnings Date</th>\n",
       "    </tr>\n",
       "  </thead>\n",
       "  <tbody>\n",
       "    <tr>\n",
       "      <th>0</th>\n",
       "      <td>601088</td>\n",
       "      <td>18.6</td>\n",
       "      <td>18.5 - 18.85</td>\n",
       "      <td>2.301300e+11</td>\n",
       "      <td>18.69</td>\n",
       "      <td>14.31 - 20.17</td>\n",
       "      <td>2.0</td>\n",
       "      <td>30665190.0</td>\n",
       "      <td>3.687500e+11</td>\n",
       "      <td>1.26 (6.77%)</td>\n",
       "      <td>38221767.0</td>\n",
       "      <td>9.31</td>\n",
       "      <td>0.54</td>\n",
       "      <td>7.83%</td>\n",
       "      <td>1.988962e+10</td>\n",
       "      <td>19/03/2021</td>\n",
       "    </tr>\n",
       "  </tbody>\n",
       "</table>\n",
       "</div>"
      ],
      "text/plain": [
       "  Stock Symbol  Prev. Close  Todays Range       Revenue   Open    52 wk Range  \\\n",
       "0       601088         18.6  18.5 - 18.85  2.301300e+11  18.69  14.31 - 20.17   \n",
       "\n",
       "   EPS      Volume    Market Cap Dividend (Yield)  Average Vol. (3m)  \\\n",
       "0  2.0  30665190.0  3.687500e+11     1.26 (6.77%)         38221767.0   \n",
       "\n",
       "   P/E Ratio  Beta 1-Year Change  Shares Outstanding Next Earnings Date  \n",
       "0       9.31  0.54         7.83%        1.988962e+10         19/03/2021  "
      ]
     },
     "execution_count": 12,
     "metadata": {},
     "output_type": "execute_result"
    }
   ],
   "source": [
    "investpy.get_stock_information('601088','China')"
   ]
  },
  {
   "cell_type": "code",
   "execution_count": 18,
   "metadata": {},
   "outputs": [
    {
     "ename": "ValueError",
     "evalue": "ERR#0002: as_json argument can just be True or False, bool type.",
     "output_type": "error",
     "traceback": [
      "\u001b[0;31m----------------------------------------------------------------\u001b[0m",
      "\u001b[0;31mValueError\u001b[0m                     Traceback (most recent call last)",
      "\u001b[0;32m<ipython-input-18-468bdb731b9c>\u001b[0m in \u001b[0;36m<module>\u001b[0;34m\u001b[0m\n\u001b[0;32m----> 1\u001b[0;31m \u001b[0minvestpy\u001b[0m\u001b[0;34m.\u001b[0m\u001b[0mget_stocks_overview\u001b[0m\u001b[0;34m(\u001b[0m\u001b[0;34m'China'\u001b[0m\u001b[0;34m,\u001b[0m\u001b[0;34m'max'\u001b[0m\u001b[0;34m)\u001b[0m\u001b[0;34m\u001b[0m\u001b[0;34m\u001b[0m\u001b[0m\n\u001b[0m",
      "\u001b[0;32m~/.local/lib/python3.8/site-packages/investpy/stocks.py\u001b[0m in \u001b[0;36mget_stocks_overview\u001b[0;34m(country, as_json, n_results)\u001b[0m\n\u001b[1;32m   1177\u001b[0m \u001b[0;34m\u001b[0m\u001b[0m\n\u001b[1;32m   1178\u001b[0m     \u001b[0;32mif\u001b[0m \u001b[0;32mnot\u001b[0m \u001b[0misinstance\u001b[0m\u001b[0;34m(\u001b[0m\u001b[0mas_json\u001b[0m\u001b[0;34m,\u001b[0m \u001b[0mbool\u001b[0m\u001b[0;34m)\u001b[0m\u001b[0;34m:\u001b[0m\u001b[0;34m\u001b[0m\u001b[0;34m\u001b[0m\u001b[0m\n\u001b[0;32m-> 1179\u001b[0;31m         \u001b[0;32mraise\u001b[0m \u001b[0mValueError\u001b[0m\u001b[0;34m(\u001b[0m\u001b[0;34m\"ERR#0002: as_json argument can just be True or False, bool type.\"\u001b[0m\u001b[0;34m)\u001b[0m\u001b[0;34m\u001b[0m\u001b[0;34m\u001b[0m\u001b[0m\n\u001b[0m\u001b[1;32m   1180\u001b[0m \u001b[0;34m\u001b[0m\u001b[0m\n\u001b[1;32m   1181\u001b[0m     \u001b[0;32mif\u001b[0m \u001b[0;32mnot\u001b[0m \u001b[0misinstance\u001b[0m\u001b[0;34m(\u001b[0m\u001b[0mn_results\u001b[0m\u001b[0;34m,\u001b[0m \u001b[0mint\u001b[0m\u001b[0;34m)\u001b[0m\u001b[0;34m:\u001b[0m\u001b[0;34m\u001b[0m\u001b[0;34m\u001b[0m\u001b[0m\n",
      "\u001b[0;31mValueError\u001b[0m: ERR#0002: as_json argument can just be True or False, bool type."
     ]
    }
   ],
   "source": []
  }
 ],
 "metadata": {
  "kernelspec": {
   "display_name": "Python 3",
   "language": "python",
   "name": "python3"
  },
  "language_info": {
   "codemirror_mode": {
    "name": "ipython",
    "version": 3
   },
   "file_extension": ".py",
   "mimetype": "text/x-python",
   "name": "python",
   "nbconvert_exporter": "python",
   "pygments_lexer": "ipython3",
   "version": "3.8.5"
  }
 },
 "nbformat": 4,
 "nbformat_minor": 4
}
